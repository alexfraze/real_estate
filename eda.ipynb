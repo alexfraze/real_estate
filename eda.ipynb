{
 "cells": [
  {
   "cell_type": "code",
   "execution_count": 46,
   "metadata": {},
   "outputs": [],
   "source": [
    "import pandas as pd\n",
    "import numpy as np\n",
    "from scipy.stats import linregress\n"
   ]
  },
  {
   "cell_type": "code",
   "execution_count": 40,
   "metadata": {},
   "outputs": [
    {
     "name": "stdout",
     "output_type": "stream",
     "text": [
      "30807\n"
     ]
    }
   ],
   "source": [
    "sfh_prices = pd.read_csv(\"data/sfh_values_mid_tiers.csv\")\n",
    "print(sfh_prices.index.size)"
   ]
  },
  {
   "cell_type": "code",
   "execution_count": 42,
   "metadata": {},
   "outputs": [
    {
     "name": "stdout",
     "output_type": "stream",
     "text": [
      "30208\n",
      "19382\n"
     ]
    }
   ],
   "source": [
    "#pre-processing, filter out zipcodes without significant populations\n",
    "twenty_ten_census_zip_populations = pd.read_csv(\"data/population_by_zip_2010.csv\")\n",
    "zip_populations = twenty_ten_census_zip_populations.groupby('zipcode')['population'].sum().reset_index()\n",
    "prices_with_pops = sfh_prices.merge(zip_populations, left_on=\"RegionName\", right_on=\"zipcode\")\n",
    "print(prices_with_pops.index.size)\n",
    "#filter to zips with atleast 5K people living there\n",
    "min_population = 5000\n",
    "prices_with_pops = prices_with_pops[prices_with_pops.population>min_population]\n",
    "print(prices_with_pops.index.size)\n",
    "sfh_prices = prices_with_pops"
   ]
  },
  {
   "cell_type": "code",
   "execution_count": 44,
   "metadata": {},
   "outputs": [],
   "source": [
    "#melt the date,price into multiple rows instead of one wide table\n",
    "date_cols = [x for x in sfh_prices.columns if sfh_prices[x].dtype=='float64']\n",
    "melted_prices = pd.melt(sfh_prices, id_vars=['RegionID', 'SizeRank', 'RegionName', 'RegionType', 'StateName','State', 'City', 'Metro', 'CountyName'], value_vars=date_cols)\n",
    "melted_prices = melted_prices.rename(columns = {\"variable\": \"date\", \"value\": \"price\"})\n",
    "melted_prices.date = pd.to_datetime(melted_prices.date)\n"
   ]
  },
  {
   "cell_type": "code",
   "execution_count": 47,
   "metadata": {},
   "outputs": [],
   "source": [
    "#add in the year distnace from the last date so we can perform regression on the price\n",
    "max_date = melted_prices.date.max()\n",
    "melted_prices['months_difference'] = (melted_prices.date-max_date)/(np.timedelta64(1, 'Y'))\n",
    "zipcode_slopes = melted_prices.sort_values([\"RegionName\", \"date\"]).groupby(\"RegionName\").apply(\n",
    "            lambda x: linregress(x.months_difference, x['price'])[0]).round(3)\n",
    "zipcode_stds = melted_prices.groupby(\"RegionName\")['price'].std()"
   ]
  },
  {
   "cell_type": "code",
   "execution_count": 48,
   "metadata": {},
   "outputs": [
    {
     "data": {
      "text/plain": [
       "RegionName\n",
       "602           NaN\n",
       "693           NaN\n",
       "705           NaN\n",
       "917           NaN\n",
       "1001     4763.474\n",
       "           ...   \n",
       "99712         NaN\n",
       "99801         NaN\n",
       "99824         NaN\n",
       "99833         NaN\n",
       "99901         NaN\n",
       "Length: 19382, dtype: float64"
      ]
     },
     "execution_count": 48,
     "metadata": {},
     "output_type": "execute_result"
    }
   ],
   "source": [
    "zipcode_slopes"
   ]
  },
  {
   "cell_type": "code",
   "execution_count": 4,
   "metadata": {},
   "outputs": [],
   "source": [
    "# sfh_prices['present'] = sfh_prices['2021-07-31']\n",
    "# sfh_prices['1_months_ago'] = sfh_prices['2021-06-30']\n",
    "# sfh_prices['3_months_ago'] = sfh_prices['2021-04-30']\n",
    "# sfh_prices['6_months_ago'] = sfh_prices['2021-01-31']\n",
    "# sfh_prices['1_year_ago'] = sfh_prices['2020-07-31']\n",
    "# sfh_prices['3_years_ago'] = sfh_prices['2017-07-31']\n",
    "# sfh_prices['5_years_ago'] = sfh_prices['2016-07-31']"
   ]
  },
  {
   "cell_type": "code",
   "execution_count": null,
   "metadata": {},
   "outputs": [],
   "source": []
  },
  {
   "cell_type": "code",
   "execution_count": 5,
   "metadata": {},
   "outputs": [],
   "source": [
    "# sfh_prices['1_month_diff'] = sfh_prices['present']/sfh_prices['1_months_ago']-1\n",
    "# sfh_prices['3_month_diff'] = sfh_prices['present']/sfh_prices['3_months_ago']-1\n",
    "# sfh_prices['6_month_diff'] = sfh_prices['present']/sfh_prices['6_months_ago']-1\n",
    "# sfh_prices['1_year_diff'] = sfh_prices['present']/sfh_prices['1_year_ago']-1\n",
    "\n",
    "# sfh_prices['weighted_growth'] = sfh_prices['1_month_diff']*12 + sfh_prices['3_month_diff']*4 + sfh_prices['6_month_diff']*2 + sfh_prices['1_year_diff']"
   ]
  },
  {
   "cell_type": "code",
   "execution_count": 6,
   "metadata": {},
   "outputs": [],
   "source": [
    "\n",
    "#2020 census data released to public on sept 16th ?\n",
    "#using 2010 for now\n",
    "\n",
    "\n"
   ]
  },
  {
   "cell_type": "code",
   "execution_count": 7,
   "metadata": {},
   "outputs": [
    {
     "name": "stdout",
     "output_type": "stream",
     "text": [
      "30807\n",
      "33119\n",
      "30208\n"
     ]
    }
   ],
   "source": [
    "print(sfh_prices.index.size)\n",
    "print(zip_populations.index.size)\n",
    "\n",
    "\n",
    "#small amount of data loss, going to assume its for really small/obscure zips. \n",
    "print(prices_with_pops.index.size)"
   ]
  }
 ],
 "metadata": {
  "interpreter": {
   "hash": "1ee38ef4a5a9feb55287fd749643f13d043cb0a7addaab2a9c224cbe137c0062"
  },
  "kernelspec": {
   "display_name": "Python 3.8.11 64-bit",
   "name": "python3"
  },
  "language_info": {
   "codemirror_mode": {
    "name": "ipython",
    "version": 3
   },
   "file_extension": ".py",
   "mimetype": "text/x-python",
   "name": "python",
   "nbconvert_exporter": "python",
   "pygments_lexer": "ipython3",
   "version": "3.8.12"
  },
  "orig_nbformat": 4
 },
 "nbformat": 4,
 "nbformat_minor": 2
}
