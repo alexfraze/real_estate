{
 "cells": [
  {
   "cell_type": "code",
   "execution_count": 41,
   "metadata": {},
   "outputs": [],
   "source": [
    "import pandas as pd\n",
    "import numpy as np\n",
    "from scipy.stats import linregress\n",
    "import matplotlib.pyplot as plt\n"
   ]
  },
  {
   "cell_type": "code",
   "execution_count": 42,
   "metadata": {},
   "outputs": [
    {
     "name": "stdout",
     "output_type": "stream",
     "text": [
      "30468\n"
     ]
    }
   ],
   "source": [
    "\n",
    "#using single family home prices historical dataset (zillow has a few other options as well to try including w/ condos, Xbedrooms, etc.)\n",
    "sfh_prices = pd.read_csv(\"/Users/afrazier/Documents/personal/real_estate/data/single_family_historical.csv\")\n",
    "print(sfh_prices.index.size)\n"
   ]
  },
  {
   "cell_type": "code",
   "execution_count": 43,
   "metadata": {},
   "outputs": [
    {
     "name": "stdout",
     "output_type": "stream",
     "text": [
      "29906\n",
      "10347\n"
     ]
    }
   ],
   "source": [
    "#pre-processing, filter out zipcodes without significant populations\n",
    "twenty_ten_census_zip_populations = pd.read_csv(\"data/population_by_zip_2010.csv\")\n",
    "zip_populations = twenty_ten_census_zip_populations.groupby('zipcode')['population'].sum().reset_index()\n",
    "prices_with_pops = sfh_prices.merge(zip_populations, left_on=\"RegionName\", right_on=\"zipcode\")\n",
    "print(prices_with_pops.index.size)\n",
    "#filter to zips with atleast 25K people living there\n",
    "min_population = 25000\n",
    "prices_with_pops = prices_with_pops[prices_with_pops.population>min_population]\n",
    "print(prices_with_pops.index.size)\n",
    "sfh_prices = prices_with_pops"
   ]
  },
  {
   "cell_type": "code",
   "execution_count": 44,
   "metadata": {},
   "outputs": [],
   "source": [
    "#melt the date,price into multiple rows instead of one wide table\n",
    "date_cols = [x for x in sfh_prices.columns if sfh_prices[x].dtype=='float64']\n",
    "melted_prices = pd.melt(sfh_prices, id_vars=['RegionID', 'SizeRank', 'RegionName', 'RegionType', 'StateName','State', 'City', 'Metro', 'CountyName'], value_vars=date_cols)\n",
    "melted_prices = melted_prices.rename(columns = {\"variable\": \"date\", \"value\": \"price\"})\n",
    "melted_prices.date = pd.to_datetime(melted_prices.date)\n"
   ]
  },
  {
   "cell_type": "code",
   "execution_count": 45,
   "metadata": {},
   "outputs": [],
   "source": [
    "# remove years/zips with null prices -> 693977/5044869 (~14%) null prices \n",
    "melted_prices = melted_prices[~(melted_prices.price.isnull())]"
   ]
  },
  {
   "cell_type": "code",
   "execution_count": 46,
   "metadata": {},
   "outputs": [],
   "source": [
    "#add in the year distnace from the last date so we can perform regression on the price\n",
    "max_date = melted_prices.date.max()\n",
    "melted_prices['years_difference'] = (melted_prices.date-max_date)/(np.timedelta64(1, 'Y'))\n",
    "\n",
    "#filter to only datapoints from the last 5 years\n",
    "#can try other values here as it might be nice to include the 2008 crash as well\n",
    "melted_prices = melted_prices[melted_prices.years_difference>-5]\n",
    "\n"
   ]
  },
  {
   "cell_type": "code",
   "execution_count": 47,
   "metadata": {},
   "outputs": [],
   "source": [
    "#calculate slope, std, and number datapoints\n",
    "zipcode_slopes = melted_prices.sort_values([\"RegionName\", \"date\"]).groupby(\"RegionName\").apply(\n",
    "            lambda x: linregress(x.years_difference, x['price'])[0]).round()\n",
    "zipcode_slopes.name = \"annual_price_slope\"\n",
    "zipcode_stds = melted_prices.groupby(\"RegionName\")['price'].std().round()\n",
    "zipcode_stds.name = \"annual_price_std_deviation\"\n",
    "zipcode_datapoints = melted_prices.groupby(\"RegionName\")['price'].size()\n",
    "zipcode_datapoints.name = \"total_data_points\""
   ]
  },
  {
   "cell_type": "code",
   "execution_count": 48,
   "metadata": {},
   "outputs": [
    {
     "data": {
      "text/plain": [
       "<matplotlib.axes._subplots.AxesSubplot at 0x11f33a370>"
      ]
     },
     "execution_count": 48,
     "metadata": {},
     "output_type": "execute_result"
    },
    {
     "data": {
      "image/png": "[encoded data removed]",
      "text/plain": [
       "<Figure size 432x288 with 1 Axes>"
      ]
     },
     "metadata": {
      "needs_background": "light"
     },
     "output_type": "display_data"
    }
   ],
   "source": [
    "ten_year_slope_and_stds = pd.concat([zipcode_slopes, zipcode_stds, zipcode_datapoints], axis=1)\n",
    "#lets filter to zipcodes with atleast 3 years of data?\n",
    "ten_year_slope_and_stds =  ten_year_slope_and_stds[ten_year_slope_and_stds.total_data_points>=36]\n",
    "\n",
    "ten_year_slope_and_stds.plot.scatter(x=\"annual_price_slope\", y=\"annual_price_std_deviation\")"
   ]
  },
  {
   "cell_type": "code",
   "execution_count": 53,
   "metadata": {},
   "outputs": [
    {
     "data": {
      "text/html": [
       "<div>\n",
       "<style scoped>\n",
       "    .dataframe tbody tr th:only-of-type {\n",
       "        vertical-align: middle;\n",
       "    }\n",
       "\n",
       "    .dataframe tbody tr th {\n",
       "        vertical-align: top;\n",
       "    }\n",
       "\n",
       "    .dataframe thead th {\n",
       "        text-align: right;\n",
       "    }\n",
       "</style>\n",
       "<table border=\"1\" class=\"dataframe\">\n",
       "  <thead>\n",
       "    <tr style=\"text-align: right;\">\n",
       "      <th></th>\n",
       "      <th>annual_price_slope</th>\n",
       "      <th>annual_price_std_deviation</th>\n",
       "      <th>total_data_points</th>\n",
       "      <th>sharpe_ratios</th>\n",
       "    </tr>\n",
       "    <tr>\n",
       "      <th>RegionName</th>\n",
       "      <th></th>\n",
       "      <th></th>\n",
       "      <th></th>\n",
       "      <th></th>\n",
       "    </tr>\n",
       "  </thead>\n",
       "  <tbody>\n",
       "    <tr>\n",
       "      <th>96003</th>\n",
       "      <td>22475.0</td>\n",
       "      <td>27447.0</td>\n",
       "      <td>45</td>\n",
       "      <td>0.818851</td>\n",
       "    </tr>\n",
       "    <tr>\n",
       "      <th>6379</th>\n",
       "      <td>21231.0</td>\n",
       "      <td>26988.0</td>\n",
       "      <td>45</td>\n",
       "      <td>0.786683</td>\n",
       "    </tr>\n",
       "    <tr>\n",
       "      <th>10462</th>\n",
       "      <td>37605.0</td>\n",
       "      <td>55779.0</td>\n",
       "      <td>61</td>\n",
       "      <td>0.674178</td>\n",
       "    </tr>\n",
       "    <tr>\n",
       "      <th>10461</th>\n",
       "      <td>36283.0</td>\n",
       "      <td>53826.0</td>\n",
       "      <td>61</td>\n",
       "      <td>0.674079</td>\n",
       "    </tr>\n",
       "    <tr>\n",
       "      <th>10472</th>\n",
       "      <td>36512.0</td>\n",
       "      <td>54168.0</td>\n",
       "      <td>61</td>\n",
       "      <td>0.674051</td>\n",
       "    </tr>\n",
       "    <tr>\n",
       "      <th>10465</th>\n",
       "      <td>31203.0</td>\n",
       "      <td>46314.0</td>\n",
       "      <td>61</td>\n",
       "      <td>0.673727</td>\n",
       "    </tr>\n",
       "    <tr>\n",
       "      <th>10466</th>\n",
       "      <td>28989.0</td>\n",
       "      <td>43030.0</td>\n",
       "      <td>61</td>\n",
       "      <td>0.673693</td>\n",
       "    </tr>\n",
       "    <tr>\n",
       "      <th>19121</th>\n",
       "      <td>30798.0</td>\n",
       "      <td>45788.0</td>\n",
       "      <td>61</td>\n",
       "      <td>0.672622</td>\n",
       "    </tr>\n",
       "    <tr>\n",
       "      <th>11203</th>\n",
       "      <td>33533.0</td>\n",
       "      <td>49857.0</td>\n",
       "      <td>61</td>\n",
       "      <td>0.672584</td>\n",
       "    </tr>\n",
       "    <tr>\n",
       "      <th>10469</th>\n",
       "      <td>32510.0</td>\n",
       "      <td>48340.0</td>\n",
       "      <td>61</td>\n",
       "      <td>0.672528</td>\n",
       "    </tr>\n",
       "    <tr>\n",
       "      <th>10458</th>\n",
       "      <td>45275.0</td>\n",
       "      <td>67325.0</td>\n",
       "      <td>61</td>\n",
       "      <td>0.672484</td>\n",
       "    </tr>\n",
       "    <tr>\n",
       "      <th>84532</th>\n",
       "      <td>32186.0</td>\n",
       "      <td>47866.0</td>\n",
       "      <td>61</td>\n",
       "      <td>0.672419</td>\n",
       "    </tr>\n",
       "    <tr>\n",
       "      <th>10473</th>\n",
       "      <td>32568.0</td>\n",
       "      <td>48435.0</td>\n",
       "      <td>61</td>\n",
       "      <td>0.672406</td>\n",
       "    </tr>\n",
       "    <tr>\n",
       "      <th>10457</th>\n",
       "      <td>37929.0</td>\n",
       "      <td>56429.0</td>\n",
       "      <td>61</td>\n",
       "      <td>0.672154</td>\n",
       "    </tr>\n",
       "    <tr>\n",
       "      <th>7513</th>\n",
       "      <td>41081.0</td>\n",
       "      <td>61141.0</td>\n",
       "      <td>61</td>\n",
       "      <td>0.671906</td>\n",
       "    </tr>\n",
       "    <tr>\n",
       "      <th>30354</th>\n",
       "      <td>25558.0</td>\n",
       "      <td>38047.0</td>\n",
       "      <td>61</td>\n",
       "      <td>0.671748</td>\n",
       "    </tr>\n",
       "    <tr>\n",
       "      <th>33142</th>\n",
       "      <td>28845.0</td>\n",
       "      <td>42942.0</td>\n",
       "      <td>61</td>\n",
       "      <td>0.671720</td>\n",
       "    </tr>\n",
       "    <tr>\n",
       "      <th>30314</th>\n",
       "      <td>42257.0</td>\n",
       "      <td>62912.0</td>\n",
       "      <td>61</td>\n",
       "      <td>0.671684</td>\n",
       "    </tr>\n",
       "    <tr>\n",
       "      <th>98632</th>\n",
       "      <td>28344.0</td>\n",
       "      <td>42205.0</td>\n",
       "      <td>61</td>\n",
       "      <td>0.671579</td>\n",
       "    </tr>\n",
       "    <tr>\n",
       "      <th>7304</th>\n",
       "      <td>42474.0</td>\n",
       "      <td>63253.0</td>\n",
       "      <td>61</td>\n",
       "      <td>0.671494</td>\n",
       "    </tr>\n",
       "    <tr>\n",
       "      <th>7305</th>\n",
       "      <td>29301.0</td>\n",
       "      <td>43645.0</td>\n",
       "      <td>61</td>\n",
       "      <td>0.671348</td>\n",
       "    </tr>\n",
       "    <tr>\n",
       "      <th>10460</th>\n",
       "      <td>50525.0</td>\n",
       "      <td>75259.0</td>\n",
       "      <td>61</td>\n",
       "      <td>0.671348</td>\n",
       "    </tr>\n",
       "    <tr>\n",
       "      <th>30315</th>\n",
       "      <td>28379.0</td>\n",
       "      <td>42276.0</td>\n",
       "      <td>61</td>\n",
       "      <td>0.671279</td>\n",
       "    </tr>\n",
       "    <tr>\n",
       "      <th>7203</th>\n",
       "      <td>32903.0</td>\n",
       "      <td>49017.0</td>\n",
       "      <td>61</td>\n",
       "      <td>0.671257</td>\n",
       "    </tr>\n",
       "    <tr>\n",
       "      <th>84032</th>\n",
       "      <td>43633.0</td>\n",
       "      <td>65006.0</td>\n",
       "      <td>61</td>\n",
       "      <td>0.671215</td>\n",
       "    </tr>\n",
       "  </tbody>\n",
       "</table>\n",
       "</div>"
      ],
      "text/plain": [
       "            annual_price_slope  annual_price_std_deviation  total_data_points  \\\n",
       "RegionName                                                                      \n",
       "96003                  22475.0                     27447.0                 45   \n",
       "6379                   21231.0                     26988.0                 45   \n",
       "10462                  37605.0                     55779.0                 61   \n",
       "10461                  36283.0                     53826.0                 61   \n",
       "10472                  36512.0                     54168.0                 61   \n",
       "10465                  31203.0                     46314.0                 61   \n",
       "10466                  28989.0                     43030.0                 61   \n",
       "19121                  30798.0                     45788.0                 61   \n",
       "11203                  33533.0                     49857.0                 61   \n",
       "10469                  32510.0                     48340.0                 61   \n",
       "10458                  45275.0                     67325.0                 61   \n",
       "84532                  32186.0                     47866.0                 61   \n",
       "10473                  32568.0                     48435.0                 61   \n",
       "10457                  37929.0                     56429.0                 61   \n",
       "7513                   41081.0                     61141.0                 61   \n",
       "30354                  25558.0                     38047.0                 61   \n",
       "33142                  28845.0                     42942.0                 61   \n",
       "30314                  42257.0                     62912.0                 61   \n",
       "98632                  28344.0                     42205.0                 61   \n",
       "7304                   42474.0                     63253.0                 61   \n",
       "7305                   29301.0                     43645.0                 61   \n",
       "10460                  50525.0                     75259.0                 61   \n",
       "30315                  28379.0                     42276.0                 61   \n",
       "7203                   32903.0                     49017.0                 61   \n",
       "84032                  43633.0                     65006.0                 61   \n",
       "\n",
       "            sharpe_ratios  \n",
       "RegionName                 \n",
       "96003            0.818851  \n",
       "6379             0.786683  \n",
       "10462            0.674178  \n",
       "10461            0.674079  \n",
       "10472            0.674051  \n",
       "10465            0.673727  \n",
       "10466            0.673693  \n",
       "19121            0.672622  \n",
       "11203            0.672584  \n",
       "10469            0.672528  \n",
       "10458            0.672484  \n",
       "84532            0.672419  \n",
       "10473            0.672406  \n",
       "10457            0.672154  \n",
       "7513             0.671906  \n",
       "30354            0.671748  \n",
       "33142            0.671720  \n",
       "30314            0.671684  \n",
       "98632            0.671579  \n",
       "7304             0.671494  \n",
       "7305             0.671348  \n",
       "10460            0.671348  \n",
       "30315            0.671279  \n",
       "7203             0.671257  \n",
       "84032            0.671215  "
      ]
     },
     "execution_count": 53,
     "metadata": {},
     "output_type": "execute_result"
    }
   ],
   "source": [
    "#when using full dataset i get one dot with very high slope but significantly lower STD? \n",
    "# ten_year_slope_and_stds[ten_year_slope_and_stds.annual_price_slope>130000].sort_values(\"annual_price_std_deviation\")\n",
    "# 94129 -> San Francisco?! (presidio)\n",
    "\n",
    "#what if filter all accounts to just the last 5 years?\n",
    "ten_year_slope_and_stds['sharpe_ratios'] =  ten_year_slope_and_stds['annual_price_slope']/ten_year_slope_and_stds['annual_price_std_deviation']\n",
    "\n",
    "\n",
    "#Lets Just look at zip codes with >20K increase avg. per year\n",
    "growth = ten_year_slope_and_stds[ten_year_slope_and_stds.annual_price_slope>20000]\n",
    "growth.sort_values('sharpe_ratios', ascending=False)[:25]"
   ]
  },
  {
   "cell_type": "code",
   "execution_count": 55,
   "metadata": {},
   "outputs": [
    {
     "data": {
      "text/plain": [
       "<matplotlib.axes._subplots.AxesSubplot at 0x11da92f10>"
      ]
     },
     "execution_count": 55,
     "metadata": {},
     "output_type": "execute_result"
    },
    {
     "data": {
      "image/png": "[encoded data removed]",
      "text/plain": [
       "<Figure size 432x288 with 1 Axes>"
      ]
     },
     "metadata": {
      "needs_background": "light"
     },
     "output_type": "display_data"
    }
   ],
   "source": [
    "#interesting zipcodes \n",
    "#94129 presidio San Fran (high slope and low std from all time?) #is this because presidio wasnt in dataset during 2008 crash? \n",
    "\n",
    "#96003 Redding, CA 96003 top sharpe ratio for zipcodes growing more than 20K value a year\n",
    "# https://www.zillow.com/homedetails/1872-Tiburon-Dr-Redding-CA-96003/15241905_zpid/ (can pay at 1600 and rent for 1800?)\n",
    "\n",
    "#10462, 10461, 10465, 10469, 10458 -> bronx, NY?\n",
    "\n",
    "#19121 -> philly\n",
    "\n",
    "#11203 Brooklyn, New York\n",
    "\n",
    "#Moab, UT (arches?!)\n",
    "\n",
    "\n",
    "melted_prices[melted_prices.RegionName==84532][['date', 'price']].set_index(\"date\").plot()\n",
    "#SFH prices in SF are now at aroudn $2.6M, which seems like a lot but might be a steal given their previous trendline\n"
   ]
  },
  {
   "cell_type": "code",
   "execution_count": null,
   "metadata": {},
   "outputs": [],
   "source": [
    "#requirements -> good sharpe ratio of risk to return. ideally >0.5\n",
    "\n",
    "# forecasted annual property value increase of >20K\n",
    "#have a basic linear model but might want to look into other things here\n",
    "\n",
    "\n",
    "#things to add\n",
    "# population is growing at decent rate\n",
    "# major school, grocery store, and hospital within 10-20 miles of home\n",
    "# Average salary/income shows a positive trend for this place too! \n",
    "\n",
    "\n",
    "# rental yield is strong. ie, i can make 1% of house cost in rent each year? (check vs BRRRRR book rule)\n",
    "# or I can make X dollars in rent each year. "
   ]
  }
 ],
 "metadata": {
  "interpreter": {
   "hash": "1ee38ef4a5a9feb55287fd749643f13d043cb0a7addaab2a9c224cbe137c0062"
  },
  "kernelspec": {
   "display_name": "Python 3.8.11 64-bit",
   "name": "python3"
  },
  "language_info": {
   "codemirror_mode": {
    "name": "ipython",
    "version": 3
   },
   "file_extension": ".py",
   "mimetype": "text/x-python",
   "name": "python",
   "nbconvert_exporter": "python",
   "pygments_lexer": "ipython3",
   "version": "3.8.12"
  },
  "orig_nbformat": 4
 },
 "nbformat": 4,
 "nbformat_minor": 2
}
